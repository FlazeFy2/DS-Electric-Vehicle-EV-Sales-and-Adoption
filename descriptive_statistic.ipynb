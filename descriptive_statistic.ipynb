{
 "cells": [
  {
   "cell_type": "code",
   "execution_count": 9,
   "id": "271cfaf3-aa57-4e5d-bdc2-a34ca147307f",
   "metadata": {},
   "outputs": [
    {
     "name": "stdout",
     "output_type": "stream",
     "text": [
      "Max of Battery_Capacity_Kwh : 100\n",
      "Min of Battery_Capacity_Kwh : 40\n",
      "Range of Battery_Capacity_Kwh : 60\n",
      "Mean of Battery_Capacity_Kwh : 69.41\n",
      "Mode of Battery_Capacity_Kwh : 44\n",
      "Variance of Battery_Capacity_Kwh : 310.73\n",
      "Standard Deviance of Battery_Capacity_Kwh : 17.63\n",
      "\n",
      "Max of Discount_Percentage : 20\n",
      "Min of Discount_Percentage : 0\n",
      "Range of Discount_Percentage : 20\n",
      "Mean of Discount_Percentage : 9.01\n",
      "Mode of Discount_Percentage : 3\n",
      "Variance of Discount_Percentage : 35.59\n",
      "Standard Deviance of Discount_Percentage : 5.97\n",
      "\n",
      "Max of Units_Sold : 398\n",
      "Min of Units_Sold : 50\n",
      "Range of Units_Sold : 348\n",
      "Mean of Units_Sold : 227.88\n",
      "Mode of Units_Sold : 355\n",
      "Variance of Units_Sold : 9585.58\n",
      "Standard Deviance of Units_Sold : 97.91\n",
      "\n",
      "Max of Revenue : 30162294\n",
      "Min of Revenue : 817032\n",
      "Range of Revenue : 29345262\n",
      "Mean of Revenue : 4918761.81\n",
      "Mode of Revenue : 4389120\n",
      "Variance of Revenue : 7083926506937.26\n",
      "Standard Deviance of Revenue : 2661564.67\n",
      "\n"
     ]
    }
   ],
   "source": [
    "import pandas as pd\n",
    "import statistics\n",
    "import numpy as np\n",
    "\n",
    "# Declaration\n",
    "# Descriptive Statistic : Max, Min, Range, Mean, Mode, Var, Std for numeric Column\n",
    "data = pd.read_csv(\"train.csv\")\n",
    "\n",
    "target_col = ['Battery_Capacity_kWh','Discount_Percentage','Units_Sold','Revenue']\n",
    "\n",
    "for dt in target_col:\n",
    "    # Convert to int\n",
    "    data[dt] = pd.to_numeric(data[dt], errors='coerce')\n",
    "    \n",
    "    # Remove NaN\n",
    "    data = data.dropna(subset=[dt])\n",
    "\n",
    "    max_val = data[dt].max()\n",
    "    min_val = data[dt].min()\n",
    "    range_val = max_val - min_val\n",
    "    mean = round(data[dt].mean(),2)\n",
    "    mode = round(statistics.mode(data[dt]),2)\n",
    "    var = round(np.nanvar(data[dt],ddof=1),2)\n",
    "    std = round(var ** 0.5,2)\n",
    "\n",
    "    print(f\"Max of {dt.title()} : {max_val}\")\n",
    "    print(f\"Min of {dt.title()} : {min_val}\")\n",
    "    print(f\"Range of {dt.title()} : {range_val}\")\n",
    "    print(f\"Mean of {dt.title()} : {mean}\")\n",
    "    print(f\"Mode of {dt.title()} : {mode}\")\n",
    "    print(f\"Variance of {dt.title()} : {var}\")\n",
    "    print(f\"Standard Deviance of {dt.title()} : {std}\\n\")"
   ]
  },
  {
   "cell_type": "code",
   "execution_count": null,
   "id": "ec18145e-a168-4871-ab09-64fd09861dd1",
   "metadata": {},
   "outputs": [],
   "source": []
  }
 ],
 "metadata": {
  "kernelspec": {
   "display_name": "Python [conda env:base] *",
   "language": "python",
   "name": "conda-base-py"
  },
  "language_info": {
   "codemirror_mode": {
    "name": "ipython",
    "version": 3
   },
   "file_extension": ".py",
   "mimetype": "text/x-python",
   "name": "python",
   "nbconvert_exporter": "python",
   "pygments_lexer": "ipython3",
   "version": "3.12.7"
  }
 },
 "nbformat": 4,
 "nbformat_minor": 5
}
